{
 "cells": [
  {
   "cell_type": "markdown",
   "metadata": {},
   "source": [
    "# <center> Bike Sharing Demand \n",
    "The dataset is an ensemble of statements about sharing bike. The main goal is to predict the number of rented bikes hour by hour in the city.<center>"
   ]
  },
  {
   "cell_type": "markdown",
   "metadata": {},
   "source": [
    "Notebook structure :\n",
    "- Import Libraries\n",
    "- Quick look to the data\n",
    "- Part I - Exploratory Data Analysis\n",
    "    - What kind of problem is it ?\n",
    "    - Which factors seems to have influence on the target ?\n",
    "    - What kind of features could be engineered / created ?\n",
    "- Part II - Machine Learning\n",
    "    - Which metrics seems fit the best for the task of predicting the target ?\n",
    "    - Validation scheme\n",
    "    - Modeling\n",
    "    - Feature importance"
   ]
  },
  {
   "cell_type": "markdown",
   "metadata": {},
   "source": [
    "# Import Libraries"
   ]
  },
  {
   "cell_type": "markdown",
   "metadata": {},
   "source": [
    "## Setup"
   ]
  },
  {
   "cell_type": "code",
   "execution_count": 1,
   "metadata": {},
   "outputs": [
    {
     "name": "stdout",
     "output_type": "stream",
     "text": [
      "------------------------------\n",
      "Python version: 3.7.9 (default, Aug 31 2020, 07:22:35) \n",
      "[Clang 10.0.0 ]\n",
      "NumPy version: 1.19.1\n",
      "pandas version: 1.1.1\n",
      "matplotlib version: 3.3.1\n",
      "scikit-learn version: 0.23.2\n",
      "------------------------------\n"
     ]
    }
   ],
   "source": [
    "print('-'*30)\n",
    "import sys \n",
    "print(\"Python version: {}\". format(sys.version))\n",
    "\n",
    "import numpy as np \n",
    "print(\"NumPy version: {}\". format(np.__version__))\n",
    "\n",
    "import pandas as pd \n",
    "print(\"pandas version: {}\". format(pd.__version__))\n",
    "\n",
    "import matplotlib\n",
    "print(\"matplotlib version: {}\". format(matplotlib.__version__))\n",
    "\n",
    "import sklearn \n",
    "print(\"scikit-learn version: {}\". format(sklearn.__version__))\n",
    "\n",
    "import warnings\n",
    "warnings.filterwarnings('ignore')\n",
    "print('-'*30)"
   ]
  },
  {
   "cell_type": "markdown",
   "metadata": {},
   "source": [
    "##  Modelling Libraries"
   ]
  },
  {
   "cell_type": "code",
   "execution_count": 2,
   "metadata": {},
   "outputs": [],
   "source": [
    "#Visualization\n",
    "%matplotlib inline\n",
    "import matplotlib.pyplot as plt\n",
    "import seaborn as sns\n",
    "\n",
    "#CHelpers\n",
    "from sklearn.pipeline import Pipeline\n",
    "from sklearn.preprocessing import OneHotEncoder, StandardScaler\n",
    "from sklearn.compose import ColumnTransformer\n",
    "from sklearn import metrics\n",
    "from sklearn.metrics import mean_squared_log_error as msle\n",
    "from sklearn.metrics import make_scorer\n",
    "from sklearn.model_selection import GridSearchCV, RandomizedSearchCV\n",
    "\n",
    "#Models\n",
    "from sklearn import linear_model, ensemble, tree\n",
    "import xgboost\n"
   ]
  },
  {
   "cell_type": "markdown",
   "metadata": {},
   "source": [
    "# Quick look to the data"
   ]
  },
  {
   "cell_type": "markdown",
   "metadata": {},
   "source": [
    "We have 10886 rows and 11 attributes (I used the datetime column as an index). \n",
    "- The attribute \"count\" is target varibale.\n",
    "- Numerical attributes : \"temp\", \"atemp\", \"humidity\", \"windspeed\", \"windspeed\", \"casual\" and \"registered\".\n",
    "- Categorical attributes : \"season\", \"holiday\", \"workingday\", \"weather\" are categorical attributes.\n",
    "- There is no missing value.\n",
    "- \"datetime\" contains information on the first 19 days of each month. "
   ]
  },
  {
   "cell_type": "markdown",
   "metadata": {},
   "source": [
    "## Quick look"
   ]
  },
  {
   "cell_type": "code",
   "execution_count": 3,
   "metadata": {},
   "outputs": [],
   "source": [
    "#load the data :\n",
    "data = pd.read_csv('data.csv', index_col=0, parse_dates=True)"
   ]
  },
  {
   "cell_type": "code",
   "execution_count": 4,
   "metadata": {},
   "outputs": [
    {
     "data": {
      "text/html": [
       "<div>\n",
       "<style scoped>\n",
       "    .dataframe tbody tr th:only-of-type {\n",
       "        vertical-align: middle;\n",
       "    }\n",
       "\n",
       "    .dataframe tbody tr th {\n",
       "        vertical-align: top;\n",
       "    }\n",
       "\n",
       "    .dataframe thead th {\n",
       "        text-align: right;\n",
       "    }\n",
       "</style>\n",
       "<table border=\"1\" class=\"dataframe\">\n",
       "  <thead>\n",
       "    <tr style=\"text-align: right;\">\n",
       "      <th></th>\n",
       "      <th>season</th>\n",
       "      <th>holiday</th>\n",
       "      <th>workingday</th>\n",
       "      <th>weather</th>\n",
       "      <th>temp</th>\n",
       "      <th>atemp</th>\n",
       "      <th>humidity</th>\n",
       "      <th>windspeed</th>\n",
       "      <th>casual</th>\n",
       "      <th>registered</th>\n",
       "      <th>count</th>\n",
       "    </tr>\n",
       "    <tr>\n",
       "      <th>datetime</th>\n",
       "      <th></th>\n",
       "      <th></th>\n",
       "      <th></th>\n",
       "      <th></th>\n",
       "      <th></th>\n",
       "      <th></th>\n",
       "      <th></th>\n",
       "      <th></th>\n",
       "      <th></th>\n",
       "      <th></th>\n",
       "      <th></th>\n",
       "    </tr>\n",
       "  </thead>\n",
       "  <tbody>\n",
       "    <tr>\n",
       "      <th>2011-01-01 00:00:00</th>\n",
       "      <td>1</td>\n",
       "      <td>0</td>\n",
       "      <td>0</td>\n",
       "      <td>1</td>\n",
       "      <td>9.84</td>\n",
       "      <td>14.395</td>\n",
       "      <td>81</td>\n",
       "      <td>0.0</td>\n",
       "      <td>3</td>\n",
       "      <td>13</td>\n",
       "      <td>16</td>\n",
       "    </tr>\n",
       "    <tr>\n",
       "      <th>2011-01-01 01:00:00</th>\n",
       "      <td>1</td>\n",
       "      <td>0</td>\n",
       "      <td>0</td>\n",
       "      <td>1</td>\n",
       "      <td>9.02</td>\n",
       "      <td>13.635</td>\n",
       "      <td>80</td>\n",
       "      <td>0.0</td>\n",
       "      <td>8</td>\n",
       "      <td>32</td>\n",
       "      <td>40</td>\n",
       "    </tr>\n",
       "    <tr>\n",
       "      <th>2011-01-01 02:00:00</th>\n",
       "      <td>1</td>\n",
       "      <td>0</td>\n",
       "      <td>0</td>\n",
       "      <td>1</td>\n",
       "      <td>9.02</td>\n",
       "      <td>13.635</td>\n",
       "      <td>80</td>\n",
       "      <td>0.0</td>\n",
       "      <td>5</td>\n",
       "      <td>27</td>\n",
       "      <td>32</td>\n",
       "    </tr>\n",
       "    <tr>\n",
       "      <th>2011-01-01 03:00:00</th>\n",
       "      <td>1</td>\n",
       "      <td>0</td>\n",
       "      <td>0</td>\n",
       "      <td>1</td>\n",
       "      <td>9.84</td>\n",
       "      <td>14.395</td>\n",
       "      <td>75</td>\n",
       "      <td>0.0</td>\n",
       "      <td>3</td>\n",
       "      <td>10</td>\n",
       "      <td>13</td>\n",
       "    </tr>\n",
       "    <tr>\n",
       "      <th>2011-01-01 04:00:00</th>\n",
       "      <td>1</td>\n",
       "      <td>0</td>\n",
       "      <td>0</td>\n",
       "      <td>1</td>\n",
       "      <td>9.84</td>\n",
       "      <td>14.395</td>\n",
       "      <td>75</td>\n",
       "      <td>0.0</td>\n",
       "      <td>0</td>\n",
       "      <td>1</td>\n",
       "      <td>1</td>\n",
       "    </tr>\n",
       "  </tbody>\n",
       "</table>\n",
       "</div>"
      ],
      "text/plain": [
       "                     season  holiday  workingday  weather  temp   atemp  \\\n",
       "datetime                                                                  \n",
       "2011-01-01 00:00:00       1        0           0        1  9.84  14.395   \n",
       "2011-01-01 01:00:00       1        0           0        1  9.02  13.635   \n",
       "2011-01-01 02:00:00       1        0           0        1  9.02  13.635   \n",
       "2011-01-01 03:00:00       1        0           0        1  9.84  14.395   \n",
       "2011-01-01 04:00:00       1        0           0        1  9.84  14.395   \n",
       "\n",
       "                     humidity  windspeed  casual  registered  count  \n",
       "datetime                                                             \n",
       "2011-01-01 00:00:00        81        0.0       3          13     16  \n",
       "2011-01-01 01:00:00        80        0.0       8          32     40  \n",
       "2011-01-01 02:00:00        80        0.0       5          27     32  \n",
       "2011-01-01 03:00:00        75        0.0       3          10     13  \n",
       "2011-01-01 04:00:00        75        0.0       0           1      1  "
      ]
     },
     "execution_count": 4,
     "metadata": {},
     "output_type": "execute_result"
    }
   ],
   "source": [
    "data.head()"
   ]
  },
  {
   "cell_type": "code",
   "execution_count": 5,
   "metadata": {},
   "outputs": [
    {
     "name": "stdout",
     "output_type": "stream",
     "text": [
      "(row,columns) = (10886, 11)\n"
     ]
    },
    {
     "data": {
      "text/html": [
       "<div>\n",
       "<style scoped>\n",
       "    .dataframe tbody tr th:only-of-type {\n",
       "        vertical-align: middle;\n",
       "    }\n",
       "\n",
       "    .dataframe tbody tr th {\n",
       "        vertical-align: top;\n",
       "    }\n",
       "\n",
       "    .dataframe thead th {\n",
       "        text-align: right;\n",
       "    }\n",
       "</style>\n",
       "<table border=\"1\" class=\"dataframe\">\n",
       "  <thead>\n",
       "    <tr style=\"text-align: right;\">\n",
       "      <th></th>\n",
       "      <th>season</th>\n",
       "      <th>holiday</th>\n",
       "      <th>workingday</th>\n",
       "      <th>weather</th>\n",
       "      <th>temp</th>\n",
       "      <th>atemp</th>\n",
       "      <th>humidity</th>\n",
       "      <th>windspeed</th>\n",
       "      <th>casual</th>\n",
       "      <th>registered</th>\n",
       "      <th>count</th>\n",
       "    </tr>\n",
       "    <tr>\n",
       "      <th>datetime</th>\n",
       "      <th></th>\n",
       "      <th></th>\n",
       "      <th></th>\n",
       "      <th></th>\n",
       "      <th></th>\n",
       "      <th></th>\n",
       "      <th></th>\n",
       "      <th></th>\n",
       "      <th></th>\n",
       "      <th></th>\n",
       "      <th></th>\n",
       "    </tr>\n",
       "  </thead>\n",
       "  <tbody>\n",
       "    <tr>\n",
       "      <th>2011-01-01 00:00:00</th>\n",
       "      <td>1</td>\n",
       "      <td>0</td>\n",
       "      <td>0</td>\n",
       "      <td>1</td>\n",
       "      <td>9.84</td>\n",
       "      <td>14.395</td>\n",
       "      <td>81</td>\n",
       "      <td>0.0</td>\n",
       "      <td>3</td>\n",
       "      <td>13</td>\n",
       "      <td>16</td>\n",
       "    </tr>\n",
       "    <tr>\n",
       "      <th>2011-01-01 01:00:00</th>\n",
       "      <td>1</td>\n",
       "      <td>0</td>\n",
       "      <td>0</td>\n",
       "      <td>1</td>\n",
       "      <td>9.02</td>\n",
       "      <td>13.635</td>\n",
       "      <td>80</td>\n",
       "      <td>0.0</td>\n",
       "      <td>8</td>\n",
       "      <td>32</td>\n",
       "      <td>40</td>\n",
       "    </tr>\n",
       "    <tr>\n",
       "      <th>2011-01-01 02:00:00</th>\n",
       "      <td>1</td>\n",
       "      <td>0</td>\n",
       "      <td>0</td>\n",
       "      <td>1</td>\n",
       "      <td>9.02</td>\n",
       "      <td>13.635</td>\n",
       "      <td>80</td>\n",
       "      <td>0.0</td>\n",
       "      <td>5</td>\n",
       "      <td>27</td>\n",
       "      <td>32</td>\n",
       "    </tr>\n",
       "    <tr>\n",
       "      <th>2011-01-01 03:00:00</th>\n",
       "      <td>1</td>\n",
       "      <td>0</td>\n",
       "      <td>0</td>\n",
       "      <td>1</td>\n",
       "      <td>9.84</td>\n",
       "      <td>14.395</td>\n",
       "      <td>75</td>\n",
       "      <td>0.0</td>\n",
       "      <td>3</td>\n",
       "      <td>10</td>\n",
       "      <td>13</td>\n",
       "    </tr>\n",
       "    <tr>\n",
       "      <th>2011-01-01 04:00:00</th>\n",
       "      <td>1</td>\n",
       "      <td>0</td>\n",
       "      <td>0</td>\n",
       "      <td>1</td>\n",
       "      <td>9.84</td>\n",
       "      <td>14.395</td>\n",
       "      <td>75</td>\n",
       "      <td>0.0</td>\n",
       "      <td>0</td>\n",
       "      <td>1</td>\n",
       "      <td>1</td>\n",
       "    </tr>\n",
       "  </tbody>\n",
       "</table>\n",
       "</div>"
      ],
      "text/plain": [
       "                     season  holiday  workingday  weather  temp   atemp  \\\n",
       "datetime                                                                  \n",
       "2011-01-01 00:00:00       1        0           0        1  9.84  14.395   \n",
       "2011-01-01 01:00:00       1        0           0        1  9.02  13.635   \n",
       "2011-01-01 02:00:00       1        0           0        1  9.02  13.635   \n",
       "2011-01-01 03:00:00       1        0           0        1  9.84  14.395   \n",
       "2011-01-01 04:00:00       1        0           0        1  9.84  14.395   \n",
       "\n",
       "                     humidity  windspeed  casual  registered  count  \n",
       "datetime                                                             \n",
       "2011-01-01 00:00:00        81        0.0       3          13     16  \n",
       "2011-01-01 01:00:00        80        0.0       8          32     40  \n",
       "2011-01-01 02:00:00        80        0.0       5          27     32  \n",
       "2011-01-01 03:00:00        75        0.0       3          10     13  \n",
       "2011-01-01 04:00:00        75        0.0       0           1      1  "
      ]
     },
     "execution_count": 5,
     "metadata": {},
     "output_type": "execute_result"
    }
   ],
   "source": [
    "#Quicl look :\n",
    "print('(row,columns) =', data.shape)\n",
    "data.head()"
   ]
  },
  {
   "cell_type": "code",
   "execution_count": 6,
   "metadata": {},
   "outputs": [
    {
     "data": {
      "text/html": [
       "<div>\n",
       "<style scoped>\n",
       "    .dataframe tbody tr th:only-of-type {\n",
       "        vertical-align: middle;\n",
       "    }\n",
       "\n",
       "    .dataframe tbody tr th {\n",
       "        vertical-align: top;\n",
       "    }\n",
       "\n",
       "    .dataframe thead th {\n",
       "        text-align: right;\n",
       "    }\n",
       "</style>\n",
       "<table border=\"1\" class=\"dataframe\">\n",
       "  <thead>\n",
       "    <tr style=\"text-align: right;\">\n",
       "      <th></th>\n",
       "      <th>season</th>\n",
       "      <th>holiday</th>\n",
       "      <th>workingday</th>\n",
       "      <th>weather</th>\n",
       "      <th>temp</th>\n",
       "      <th>atemp</th>\n",
       "      <th>humidity</th>\n",
       "      <th>windspeed</th>\n",
       "      <th>casual</th>\n",
       "      <th>registered</th>\n",
       "      <th>count</th>\n",
       "    </tr>\n",
       "    <tr>\n",
       "      <th>datetime</th>\n",
       "      <th></th>\n",
       "      <th></th>\n",
       "      <th></th>\n",
       "      <th></th>\n",
       "      <th></th>\n",
       "      <th></th>\n",
       "      <th></th>\n",
       "      <th></th>\n",
       "      <th></th>\n",
       "      <th></th>\n",
       "      <th></th>\n",
       "    </tr>\n",
       "  </thead>\n",
       "  <tbody>\n",
       "    <tr>\n",
       "      <th>2012-12-19 19:00:00</th>\n",
       "      <td>4</td>\n",
       "      <td>0</td>\n",
       "      <td>1</td>\n",
       "      <td>1</td>\n",
       "      <td>15.58</td>\n",
       "      <td>19.695</td>\n",
       "      <td>50</td>\n",
       "      <td>26.0027</td>\n",
       "      <td>7</td>\n",
       "      <td>329</td>\n",
       "      <td>336</td>\n",
       "    </tr>\n",
       "    <tr>\n",
       "      <th>2012-12-19 20:00:00</th>\n",
       "      <td>4</td>\n",
       "      <td>0</td>\n",
       "      <td>1</td>\n",
       "      <td>1</td>\n",
       "      <td>14.76</td>\n",
       "      <td>17.425</td>\n",
       "      <td>57</td>\n",
       "      <td>15.0013</td>\n",
       "      <td>10</td>\n",
       "      <td>231</td>\n",
       "      <td>241</td>\n",
       "    </tr>\n",
       "    <tr>\n",
       "      <th>2012-12-19 21:00:00</th>\n",
       "      <td>4</td>\n",
       "      <td>0</td>\n",
       "      <td>1</td>\n",
       "      <td>1</td>\n",
       "      <td>13.94</td>\n",
       "      <td>15.910</td>\n",
       "      <td>61</td>\n",
       "      <td>15.0013</td>\n",
       "      <td>4</td>\n",
       "      <td>164</td>\n",
       "      <td>168</td>\n",
       "    </tr>\n",
       "    <tr>\n",
       "      <th>2012-12-19 22:00:00</th>\n",
       "      <td>4</td>\n",
       "      <td>0</td>\n",
       "      <td>1</td>\n",
       "      <td>1</td>\n",
       "      <td>13.94</td>\n",
       "      <td>17.425</td>\n",
       "      <td>61</td>\n",
       "      <td>6.0032</td>\n",
       "      <td>12</td>\n",
       "      <td>117</td>\n",
       "      <td>129</td>\n",
       "    </tr>\n",
       "    <tr>\n",
       "      <th>2012-12-19 23:00:00</th>\n",
       "      <td>4</td>\n",
       "      <td>0</td>\n",
       "      <td>1</td>\n",
       "      <td>1</td>\n",
       "      <td>13.12</td>\n",
       "      <td>16.665</td>\n",
       "      <td>66</td>\n",
       "      <td>8.9981</td>\n",
       "      <td>4</td>\n",
       "      <td>84</td>\n",
       "      <td>88</td>\n",
       "    </tr>\n",
       "  </tbody>\n",
       "</table>\n",
       "</div>"
      ],
      "text/plain": [
       "                     season  holiday  workingday  weather   temp   atemp  \\\n",
       "datetime                                                                   \n",
       "2012-12-19 19:00:00       4        0           1        1  15.58  19.695   \n",
       "2012-12-19 20:00:00       4        0           1        1  14.76  17.425   \n",
       "2012-12-19 21:00:00       4        0           1        1  13.94  15.910   \n",
       "2012-12-19 22:00:00       4        0           1        1  13.94  17.425   \n",
       "2012-12-19 23:00:00       4        0           1        1  13.12  16.665   \n",
       "\n",
       "                     humidity  windspeed  casual  registered  count  \n",
       "datetime                                                             \n",
       "2012-12-19 19:00:00        50    26.0027       7         329    336  \n",
       "2012-12-19 20:00:00        57    15.0013      10         231    241  \n",
       "2012-12-19 21:00:00        61    15.0013       4         164    168  \n",
       "2012-12-19 22:00:00        61     6.0032      12         117    129  \n",
       "2012-12-19 23:00:00        66     8.9981       4          84     88  "
      ]
     },
     "execution_count": 6,
     "metadata": {},
     "output_type": "execute_result"
    }
   ],
   "source": [
    "data.tail()"
   ]
  },
  {
   "cell_type": "code",
   "execution_count": 7,
   "metadata": {},
   "outputs": [
    {
     "data": {
      "text/plain": [
       "season          int64\n",
       "holiday         int64\n",
       "workingday      int64\n",
       "weather         int64\n",
       "temp          float64\n",
       "atemp         float64\n",
       "humidity        int64\n",
       "windspeed     float64\n",
       "casual          int64\n",
       "registered      int64\n",
       "count           int64\n",
       "dtype: object"
      ]
     },
     "execution_count": 7,
     "metadata": {},
     "output_type": "execute_result"
    }
   ],
   "source": [
    "#Check the data type of each column :\n",
    "data.dtypes"
   ]
  },
  {
   "cell_type": "code",
   "execution_count": 8,
   "metadata": {},
   "outputs": [
    {
     "data": {
      "text/plain": [
       "season        0\n",
       "holiday       0\n",
       "workingday    0\n",
       "weather       0\n",
       "temp          0\n",
       "atemp         0\n",
       "humidity      0\n",
       "windspeed     0\n",
       "casual        0\n",
       "registered    0\n",
       "count         0\n",
       "dtype: int64"
      ]
     },
     "execution_count": 8,
     "metadata": {},
     "output_type": "execute_result"
    }
   ],
   "source": [
    "# Check for missing value :\n",
    "data.isna().sum()"
   ]
  },
  {
   "cell_type": "code",
   "execution_count": 9,
   "metadata": {},
   "outputs": [
    {
     "name": "stdout",
     "output_type": "stream",
     "text": [
      "month:  {1, 2, 3, 4, 5, 6, 7, 8, 9, 10, 11, 12}\n",
      "days:  {1, 2, 3, 4, 5, 6, 7, 8, 9, 10, 11, 12, 13, 14, 15, 16, 17, 18, 19}\n"
     ]
    }
   ],
   "source": [
    "# Check the datetime index informations\n",
    "print(\"month: \", set(data.index.month))\n",
    "print(\"days: \", set(data.index.day))"
   ]
  },
  {
   "cell_type": "markdown",
   "metadata": {},
   "source": [
    "## Target distribution "
   ]
  },
  {
   "cell_type": "code",
   "execution_count": 10,
   "metadata": {},
   "outputs": [
    {
     "data": {
      "image/png": "[encoded data removed]",
      "text/plain": [
       "<Figure size 432x288 with 1 Axes>"
      ]
     },
     "metadata": {
      "needs_background": "light"
     },
     "output_type": "display_data"
    }
   ],
   "source": [
    "data[\"count\"].hist(bins=20)\n",
    "plt.show()"
   ]
  },
  {
   "cell_type": "markdown",
   "metadata": {},
   "source": [
    "The target present a heavy-tailed distribution --> To get bell-shaped distributions, we will perform a log transformation."
   ]
  },
  {
   "cell_type": "markdown",
   "metadata": {},
   "source": [
    "## Categorical attributes count"
   ]
  },
  {
   "cell_type": "code",
   "execution_count": 11,
   "metadata": {},
   "outputs": [],
   "source": [
    "# Basics features engineering :  \n",
    "data[\"season\"] = data[\"season\"].map({1:\"spring\", 2:\"summer\", 3:\"fall\", 4:\"winter\"}) \n",
    "data[\"weather\"] = data[\"weather\"].map({1:\"Clear or Few clouds\", \n",
    "                                       2:\"Mist or Cloudy\", \n",
    "                                       3:\"Light Rain or Snow\", \n",
    "                                       4:\"Heavy Rain or Snow\"}) "
   ]
  },
  {
   "cell_type": "code",
   "execution_count": 12,
   "metadata": {},
   "outputs": [],
   "source": [
    "def plot_annotate(axis):\n",
    "    for patches in axis.patches:\n",
    "        txt = str(int(patches.get_height().round()))\n",
    "        x = patches.get_x() + patches.get_width()/2\n",
    "        y = patches.get_height()\n",
    "        axis.text(x,y,txt, ha='center')"
   ]
  },
  {
   "cell_type": "code",
   "execution_count": 13,
   "metadata": {},
   "outputs": [
    {
     "data": {
      "image/png": "[encoded data removed]",
      "text/plain": [
       "<Figure size 864x864 with 4 Axes>"
      ]
     },
     "metadata": {
      "needs_background": "light"
     },
     "output_type": "display_data"
    }
   ],
   "source": [
    "fig, axis = plt.subplots(2, 2, figsize=(12,12))\n",
    "\n",
    "sns.countplot(x=\"season\", data=data, ax=axis[0,0])\n",
    "axis[0,0].set(xlabel='season', ylabel=\"value counts of season\")\n",
    "plot_annotate(axis[0,0])\n",
    "\n",
    "\n",
    "\n",
    "sns.countplot(x=\"holiday\", data=data, ax=axis[0,1])\n",
    "axis[0,1].set(xlabel='holiday', ylabel=\"value counts of holiday\")\n",
    "plot_annotate(axis[0,1])\n",
    "\n",
    "sns.countplot(x=\"workingday\", data=data, ax=axis[1,0])\n",
    "axis[1,0].set(xlabel='workingday', ylabel=\"value counts of workingday\")\n",
    "plot_annotate(axis[1,0])\n",
    "\n",
    "sns.countplot(x=\"weather\", data=data, ax=axis[1,1])\n",
    "axis[1,1].set(xlabel='weather', ylabel=\"value counts of weather\")\n",
    "axis[1,1].tick_params(axis='x',labelrotation=20)\n",
    "plot_annotate(axis[1,1])\n",
    "\n",
    "plt.show()"
   ]
  },
  {
   "cell_type": "markdown",
   "metadata": {},
   "source": [
    "- The \"season\" attribute is well balanced.\n",
    "- The \"holiday\" attribute is skewed : there are only few holiday days (<3%)\n",
    "- The \"workingday\" attribute is skewed. Working day represent 68% of all days.\n",
    "- \"weather\"  attribute : there is only one observation for a Heavy Rain/Snow category. This observation can be included in the Light Rain/Snow  category which can be considered rare compared to the other two categories."
   ]
  },
  {
   "cell_type": "code",
   "execution_count": 14,
   "metadata": {},
   "outputs": [],
   "source": [
    "#I replace Light/Heavy Rain or Snow\" simply by \"Rain or Snow\":\n",
    "data[\"weather\"] = data[\"weather\"].map({\"Clear or Few clouds\":\"Clear or Few clouds\", \n",
    "                                       \"Mist or Cloudy\":\"Mist or Cloudy\", \n",
    "                                       \"Light Rain or Snow\":\"Rain or Snow\", \n",
    "                                       \"Heavy Rain or Snow\":\"Rain or Snow\"}) "
   ]
  },
  {
   "cell_type": "code",
   "execution_count": 15,
   "metadata": {},
   "outputs": [
    {
     "data": {
      "text/plain": [
       "Clear or Few clouds    7192\n",
       "Mist or Cloudy         2834\n",
       "Rain or Snow            860\n",
       "Name: weather, dtype: int64"
      ]
     },
     "execution_count": 15,
     "metadata": {},
     "output_type": "execute_result"
    }
   ],
   "source": [
    "data[\"weather\"].value_counts()"
   ]
  },
  {
   "cell_type": "markdown",
   "metadata": {},
   "source": [
    "# Part I - Exploratory Data Analysis"
   ]
  },
  {
   "cell_type": "markdown",
   "metadata": {},
   "source": [
    "## What kind of problem is it ?"
   ]
  },
  {
   "cell_type": "markdown",
   "metadata": {},
   "source": [
    "Since, we got labeled training data, our problem is a supervised learning task. More specifically, it's a multiple (multiple features) and univariate (prediect single value) regression task.  "
   ]
  },
  {
   "cell_type": "markdown",
   "metadata": {},
   "source": [
    "## Which factors seems to have influence on the target ? "
   ]
  },
  {
   "cell_type": "markdown",
   "metadata": {},
   "source": [
    "We'll show below that the attribute \"temp\" (or \"atemp\") and \"humidity\" seems to have a strong influence on the target \"count\". We'll also show that the \"weather\" factor might lose influence the target. Finally, the attribute \"windspeed\" may also play a (weak) role to predict the target.  \n",
    "Interpretation : \n",
    "- The influance \"temp\" (or \"atemp\") can be esaly undrstood : Biking is more comfortable when the temperature is pleasant. But its not necessery true for hot temperatures!  \n",
    "- Same thing for the \"humidity\" factor : humid days are unpleasant and uncomfortable because it is extremely hot and damp ! Not really a good idea for biking ! \n",
    "- The \"weather\" attribut : everybody agrees that cycling is more pleasant in nice days!\n",
    "- windspeed : \n",
    "\n",
    "Finaly, we note taht the attributes “casual” and “registered” already contain the information we are trying to predict: “count”! In fact, these attributes would not be available in practice! So, we need to drop them during modeling."
   ]
  },
  {
   "cell_type": "markdown",
   "metadata": {},
   "source": [
    "### Influence of numerical attributes - Looking for linear correlations"
   ]
  },
  {
   "cell_type": "code",
   "execution_count": 16,
   "metadata": {},
   "outputs": [
    {
     "data": {
      "text/html": [
       "<div>\n",
       "<style scoped>\n",
       "    .dataframe tbody tr th:only-of-type {\n",
       "        vertical-align: middle;\n",
       "    }\n",
       "\n",
       "    .dataframe tbody tr th {\n",
       "        vertical-align: top;\n",
       "    }\n",
       "\n",
       "    .dataframe thead th {\n",
       "        text-align: right;\n",
       "    }\n",
       "</style>\n",
       "<table border=\"1\" class=\"dataframe\">\n",
       "  <thead>\n",
       "    <tr style=\"text-align: right;\">\n",
       "      <th></th>\n",
       "      <th>temp</th>\n",
       "      <th>atemp</th>\n",
       "      <th>windspeed</th>\n",
       "      <th>humidity</th>\n",
       "      <th>casual</th>\n",
       "      <th>registered</th>\n",
       "      <th>count</th>\n",
       "    </tr>\n",
       "  </thead>\n",
       "  <tbody>\n",
       "    <tr>\n",
       "      <th>temp</th>\n",
       "      <td>1.000000</td>\n",
       "      <td>0.984948</td>\n",
       "      <td>-0.017852</td>\n",
       "      <td>-0.064949</td>\n",
       "      <td>0.467097</td>\n",
       "      <td>0.318571</td>\n",
       "      <td>0.394454</td>\n",
       "    </tr>\n",
       "    <tr>\n",
       "      <th>atemp</th>\n",
       "      <td>0.984948</td>\n",
       "      <td>1.000000</td>\n",
       "      <td>-0.057473</td>\n",
       "      <td>-0.043536</td>\n",
       "      <td>0.462067</td>\n",
       "      <td>0.314635</td>\n",
       "      <td>0.389784</td>\n",
       "    </tr>\n",
       "    <tr>\n",
       "      <th>windspeed</th>\n",
       "      <td>-0.017852</td>\n",
       "      <td>-0.057473</td>\n",
       "      <td>1.000000</td>\n",
       "      <td>-0.318607</td>\n",
       "      <td>0.092276</td>\n",
       "      <td>0.091052</td>\n",
       "      <td>0.101369</td>\n",
       "    </tr>\n",
       "    <tr>\n",
       "      <th>humidity</th>\n",
       "      <td>-0.064949</td>\n",
       "      <td>-0.043536</td>\n",
       "      <td>-0.318607</td>\n",
       "      <td>1.000000</td>\n",
       "      <td>-0.348187</td>\n",
       "      <td>-0.265458</td>\n",
       "      <td>-0.317371</td>\n",
       "    </tr>\n",
       "    <tr>\n",
       "      <th>casual</th>\n",
       "      <td>0.467097</td>\n",
       "      <td>0.462067</td>\n",
       "      <td>0.092276</td>\n",
       "      <td>-0.348187</td>\n",
       "      <td>1.000000</td>\n",
       "      <td>0.497250</td>\n",
       "      <td>0.690414</td>\n",
       "    </tr>\n",
       "    <tr>\n",
       "      <th>registered</th>\n",
       "      <td>0.318571</td>\n",
       "      <td>0.314635</td>\n",
       "      <td>0.091052</td>\n",
       "      <td>-0.265458</td>\n",
       "      <td>0.497250</td>\n",
       "      <td>1.000000</td>\n",
       "      <td>0.970948</td>\n",
       "    </tr>\n",
       "    <tr>\n",
       "      <th>count</th>\n",
       "      <td>0.394454</td>\n",
       "      <td>0.389784</td>\n",
       "      <td>0.101369</td>\n",
       "      <td>-0.317371</td>\n",
       "      <td>0.690414</td>\n",
       "      <td>0.970948</td>\n",
       "      <td>1.000000</td>\n",
       "    </tr>\n",
       "  </tbody>\n",
       "</table>\n",
       "</div>"
      ],
      "text/plain": [
       "                temp     atemp  windspeed  humidity    casual  registered  \\\n",
       "temp        1.000000  0.984948  -0.017852 -0.064949  0.467097    0.318571   \n",
       "atemp       0.984948  1.000000  -0.057473 -0.043536  0.462067    0.314635   \n",
       "windspeed  -0.017852 -0.057473   1.000000 -0.318607  0.092276    0.091052   \n",
       "humidity   -0.064949 -0.043536  -0.318607  1.000000 -0.348187   -0.265458   \n",
       "casual      0.467097  0.462067   0.092276 -0.348187  1.000000    0.497250   \n",
       "registered  0.318571  0.314635   0.091052 -0.265458  0.497250    1.000000   \n",
       "count       0.394454  0.389784   0.101369 -0.317371  0.690414    0.970948   \n",
       "\n",
       "               count  \n",
       "temp        0.394454  \n",
       "atemp       0.389784  \n",
       "windspeed   0.101369  \n",
       "humidity   -0.317371  \n",
       "casual      0.690414  \n",
       "registered  0.970948  \n",
       "count       1.000000  "
      ]
     },
     "execution_count": 16,
     "metadata": {},
     "output_type": "execute_result"
    }
   ],
   "source": [
    "correlations = data[[\"temp\", \"atemp\", \"windspeed\", \"humidity\", \"casual\", \"registered\", \"count\"]].corr()\n",
    "correlations"
   ]
  },
  {
   "cell_type": "code",
   "execution_count": 17,
   "metadata": {},
   "outputs": [
    {
     "data": {
      "text/plain": [
       "count         1.000000\n",
       "registered    0.970948\n",
       "casual        0.690414\n",
       "temp          0.394454\n",
       "atemp         0.389784\n",
       "windspeed     0.101369\n",
       "humidity     -0.317371\n",
       "Name: count, dtype: float64"
      ]
     },
     "execution_count": 17,
     "metadata": {},
     "output_type": "execute_result"
    }
   ],
   "source": [
    "correlations['count'].sort_values(ascending=False)"
   ]
  },
  {
   "cell_type": "markdown",
   "metadata": {},
   "source": [
    "- The attributes \"registered\" and \"casual\" show a strong correlation with \"count\". But those attributes already contain the information we are trying to predict ! We need to drop them during modeling.    \n",
    "- We have strong positve correlation between the two attributes \"temp\" and \"atemp\" and the target \"count\". But \"atemp\" and \"temp\" are strongly correlated with each other!  So, during modeling, we’ll take into account only one of them.\n",
    "- We have a strong negative correlation between the attribute “humidity” and the target \"count\". One can notice that \"humidity\" is not correlated (very weakly)  to \"temp\"/\"atemp\". \n",
    "- The attribute \"windspeed\" is “weakly” correlated to the target. "
   ]
  },
  {
   "cell_type": "markdown",
   "metadata": {},
   "source": [
    "We can alos use plots to see correlations : "
   ]
  },
  {
   "cell_type": "code",
   "execution_count": 18,
   "metadata": {},
   "outputs": [
    {
     "data": {
      "image/png": "[encoded data removed]",
      "text/plain": [
       "<Figure size 1296x864 with 6 Axes>"
      ]
     },
     "metadata": {
      "needs_background": "light"
     },
     "output_type": "display_data"
    }
   ],
   "source": [
    "fig, axis = plt.subplots(2, 3, figsize=(18,12))\n",
    "sns.regplot(x=\"temp\", y=\"count\", data=data, ax=axis[0,0])\n",
    "sns.regplot(x=\"temp\", y=\"count\", data=data, ax=axis[1,0], x_estimator=np.mean).set_title('mean(temp)')\n",
    "sns.regplot(x=\"humidity\", y=\"count\", data=data, ax=axis[0,1])\n",
    "sns.regplot(x=\"humidity\", y=\"count\", data=data, ax=axis[1,1], x_estimator=np.mean).set_title('mean(humidity)')\n",
    "sns.regplot(x=\"windspeed\", y=\"count\", data=data, ax=axis[0,2])\n",
    "sns.regplot(x=\"windspeed\", y=\"count\", data=data, ax=axis[1,2], x_estimator=np.mean).set_title('mean(windspeed)')\n",
    "plt.show()"
   ]
  },
  {
   "cell_type": "markdown",
   "metadata": {},
   "source": [
    "### Influence of categorical attributes"
   ]
  },
  {
   "cell_type": "code",
   "execution_count": 19,
   "metadata": {},
   "outputs": [
    {
     "data": {
      "image/png": "[encoded data removed]",
      "text/plain": [
       "<Figure size 864x864 with 4 Axes>"
      ]
     },
     "metadata": {
      "needs_background": "light"
     },
     "output_type": "display_data"
    }
   ],
   "source": [
    "fig, axis = plt.subplots(2, 2, figsize=(12,12))\n",
    "count_by_season = data.groupby(\"season\")[\"count\"].mean().rename(\"count\").reset_index()\n",
    "count_by_holiday = data.groupby(\"holiday\")[\"count\"].mean().rename(\"count\").reset_index()\n",
    "count_by_workingday = data.groupby(\"workingday\")[\"count\"].mean().rename(\"count\").reset_index()\n",
    "count_by_weather = data.groupby(\"weather\")[\"count\"].mean().rename(\"count\").reset_index()\n",
    "\n",
    "season_order = [\"spring\", \"summer\", \"fall\", \"winter\"]\n",
    "sns.barplot(x= \"season\", y=\"count\", data=count_by_season, ax=axis[0,0], order=season_order)\n",
    "axis[0,0].set(xlabel=\"Season\", ylabel=\"The average number of rented bikes\")\n",
    "\n",
    "weather_order = [\"Clear or Few clouds\", \"Mist or Cloudy\", \"Rain or Snow\"]\n",
    "sns.barplot(x= \"weather\", y=\"count\", data=count_by_weather, ax=axis[0,1], order=weather_order)\n",
    "axis[0,1].set(xlabel='Weather', ylabel=\"The average number of rented bikes\")\n",
    "axis[0,1].tick_params(axis='x',labelrotation=10)\n",
    "\n",
    "sns.barplot(x= \"holiday\", y=\"count\", data=count_by_holiday, ax=axis[1,0] )\n",
    "axis[1,0].set(xlabel='Is a holiday', ylabel=\"The average number of rented bikes\")\n",
    "\n",
    "sns.barplot(x= \"workingday\", y=\"count\", data=count_by_workingday, ax=axis[1,1])\n",
    "axis[1,1].set(xlabel=\"Is a working day\", ylabel=\"The average number of rented bikes\")\n",
    "\n",
    "plt.show()"
   ]
  },
  {
   "cell_type": "markdown",
   "metadata": {},
   "source": [
    "- The top-left figure shows that the average number of rented bikes decrease approximately by half in the string season compared to summer, fall or winter.  It seems to me strange that there are more users in winter than in spring! We will try to understand this below ... \n",
    "- The top-right figure show that the user behavior is connected to the weather. Cycling is more pleasant in nice days! Note taht \"weather\" is probably also related to the \"humidity\" attributes. \n",
    "- Bottom figures  show that holidays and day work/off don't affect the average number of rented bikes. "
   ]
  },
  {
   "cell_type": "code",
   "execution_count": 20,
   "metadata": {},
   "outputs": [
    {
     "data": {
      "text/html": [
       "<div>\n",
       "<style scoped>\n",
       "    .dataframe tbody tr th:only-of-type {\n",
       "        vertical-align: middle;\n",
       "    }\n",
       "\n",
       "    .dataframe tbody tr th {\n",
       "        vertical-align: top;\n",
       "    }\n",
       "\n",
       "    .dataframe thead th {\n",
       "        text-align: right;\n",
       "    }\n",
       "</style>\n",
       "<table border=\"1\" class=\"dataframe\">\n",
       "  <thead>\n",
       "    <tr style=\"text-align: right;\">\n",
       "      <th></th>\n",
       "      <th>weather</th>\n",
       "      <th>humidity</th>\n",
       "      <th>count</th>\n",
       "    </tr>\n",
       "  </thead>\n",
       "  <tbody>\n",
       "    <tr>\n",
       "      <th>weather</th>\n",
       "      <td>1.000000</td>\n",
       "      <td>0.406255</td>\n",
       "      <td>-0.128694</td>\n",
       "    </tr>\n",
       "    <tr>\n",
       "      <th>humidity</th>\n",
       "      <td>0.406255</td>\n",
       "      <td>1.000000</td>\n",
       "      <td>-0.317371</td>\n",
       "    </tr>\n",
       "    <tr>\n",
       "      <th>count</th>\n",
       "      <td>-0.128694</td>\n",
       "      <td>-0.317371</td>\n",
       "      <td>1.000000</td>\n",
       "    </tr>\n",
       "  </tbody>\n",
       "</table>\n",
       "</div>"
      ],
      "text/plain": [
       "           weather  humidity     count\n",
       "weather   1.000000  0.406255 -0.128694\n",
       "humidity  0.406255  1.000000 -0.317371\n",
       "count    -0.128694 -0.317371  1.000000"
      ]
     },
     "execution_count": 20,
     "metadata": {},
     "output_type": "execute_result"
    }
   ],
   "source": [
    "# looking for correlations between \"weather\", \"humidity\" and \"count\" \n",
    "weather_data = data[\"weather\"].map({\"Clear or Few clouds\":1,\n",
    "                                         \"Mist or Cloudy\": 2, \n",
    "                                         \"Rain or Snow\": 3})\n",
    "pd.concat([weather_data, data[\"humidity\"], data[\"count\"]], axis=1).corr()"
   ]
  },
  {
   "cell_type": "markdown",
   "metadata": {},
   "source": [
    " - As expected \"weather\" and \"humidity\" are strongly correlated. So, to avoid collinearity, we might include only one of these two features during modeling.  "
   ]
  },
  {
   "cell_type": "code",
   "execution_count": 21,
   "metadata": {},
   "outputs": [
    {
     "name": "stdout",
     "output_type": "stream",
     "text": [
      "spring : {'January', 'March', 'February'}\n",
      "summer : {'May', 'April', 'June'}\n",
      "fall :  {'September', 'August', 'July'}\n",
      "winter : {'November', 'December', 'October'}\n"
     ]
    }
   ],
   "source": [
    "# Why are there more users in winter than in spring ? \n",
    "print(\"spring :\",set(data[data[\"season\"]==\"spring\"].index.month_name()))\n",
    "print(\"summer :\",set(data[data[\"season\"]==\"summer\"].index.month_name()))\n",
    "print(\"fall : \",set(data[data[\"season\"]==\"fall\"].index.month_name()))\n",
    "print(\"winter :\",set(data[data[\"season\"]==\"winter\"].index.month_name()))"
   ]
  },
  {
   "cell_type": "markdown",
   "metadata": {},
   "source": [
    "- In normally snowless areas, \"spring\" may begin as early as February (Northern Hemisphere) or August (Southern Hemisphere). Source : Wikipedia\n",
    "- The data seems to be collected from a Northern Hemisphere area. Maybe from Ireland, where spring is often defined as February, March and April (Wikipedia)."
   ]
  },
  {
   "cell_type": "code",
   "execution_count": 22,
   "metadata": {},
   "outputs": [
    {
     "data": {
      "text/html": [
       "<div>\n",
       "<style scoped>\n",
       "    .dataframe tbody tr th:only-of-type {\n",
       "        vertical-align: middle;\n",
       "    }\n",
       "\n",
       "    .dataframe tbody tr th {\n",
       "        vertical-align: top;\n",
       "    }\n",
       "\n",
       "    .dataframe thead th {\n",
       "        text-align: right;\n",
       "    }\n",
       "</style>\n",
       "<table border=\"1\" class=\"dataframe\">\n",
       "  <thead>\n",
       "    <tr style=\"text-align: right;\">\n",
       "      <th></th>\n",
       "      <th>temp</th>\n",
       "      <th>humidity</th>\n",
       "    </tr>\n",
       "  </thead>\n",
       "  <tbody>\n",
       "    <tr>\n",
       "      <th>count</th>\n",
       "      <td>2686.000000</td>\n",
       "      <td>2686.000000</td>\n",
       "    </tr>\n",
       "    <tr>\n",
       "      <th>mean</th>\n",
       "      <td>12.530491</td>\n",
       "      <td>56.297841</td>\n",
       "    </tr>\n",
       "    <tr>\n",
       "      <th>std</th>\n",
       "      <td>5.186492</td>\n",
       "      <td>20.158420</td>\n",
       "    </tr>\n",
       "    <tr>\n",
       "      <th>min</th>\n",
       "      <td>0.820000</td>\n",
       "      <td>0.000000</td>\n",
       "    </tr>\n",
       "    <tr>\n",
       "      <th>25%</th>\n",
       "      <td>9.020000</td>\n",
       "      <td>41.000000</td>\n",
       "    </tr>\n",
       "    <tr>\n",
       "      <th>50%</th>\n",
       "      <td>12.300000</td>\n",
       "      <td>53.000000</td>\n",
       "    </tr>\n",
       "    <tr>\n",
       "      <th>75%</th>\n",
       "      <td>16.400000</td>\n",
       "      <td>70.000000</td>\n",
       "    </tr>\n",
       "    <tr>\n",
       "      <th>max</th>\n",
       "      <td>29.520000</td>\n",
       "      <td>100.000000</td>\n",
       "    </tr>\n",
       "  </tbody>\n",
       "</table>\n",
       "</div>"
      ],
      "text/plain": [
       "              temp     humidity\n",
       "count  2686.000000  2686.000000\n",
       "mean     12.530491    56.297841\n",
       "std       5.186492    20.158420\n",
       "min       0.820000     0.000000\n",
       "25%       9.020000    41.000000\n",
       "50%      12.300000    53.000000\n",
       "75%      16.400000    70.000000\n",
       "max      29.520000   100.000000"
      ]
     },
     "execution_count": 22,
     "metadata": {},
     "output_type": "execute_result"
    }
   ],
   "source": [
    "# spring temperature/humidity statistics:\n",
    "data[data[\"season\"]==\"spring\"][[\"temp\", \"humidity\"]].describe()"
   ]
  },
  {
   "cell_type": "code",
   "execution_count": 23,
   "metadata": {},
   "outputs": [
    {
     "data": {
      "text/html": [
       "<div>\n",
       "<style scoped>\n",
       "    .dataframe tbody tr th:only-of-type {\n",
       "        vertical-align: middle;\n",
       "    }\n",
       "\n",
       "    .dataframe tbody tr th {\n",
       "        vertical-align: top;\n",
       "    }\n",
       "\n",
       "    .dataframe thead th {\n",
       "        text-align: right;\n",
       "    }\n",
       "</style>\n",
       "<table border=\"1\" class=\"dataframe\">\n",
       "  <thead>\n",
       "    <tr style=\"text-align: right;\">\n",
       "      <th></th>\n",
       "      <th>temp</th>\n",
       "      <th>humidity</th>\n",
       "    </tr>\n",
       "  </thead>\n",
       "  <tbody>\n",
       "    <tr>\n",
       "      <th>count</th>\n",
       "      <td>2734.000000</td>\n",
       "      <td>2734.000000</td>\n",
       "    </tr>\n",
       "    <tr>\n",
       "      <th>mean</th>\n",
       "      <td>16.649239</td>\n",
       "      <td>66.173738</td>\n",
       "    </tr>\n",
       "    <tr>\n",
       "      <th>std</th>\n",
       "      <td>4.742176</td>\n",
       "      <td>17.813446</td>\n",
       "    </tr>\n",
       "    <tr>\n",
       "      <th>min</th>\n",
       "      <td>5.740000</td>\n",
       "      <td>16.000000</td>\n",
       "    </tr>\n",
       "    <tr>\n",
       "      <th>25%</th>\n",
       "      <td>13.120000</td>\n",
       "      <td>52.000000</td>\n",
       "    </tr>\n",
       "    <tr>\n",
       "      <th>50%</th>\n",
       "      <td>16.400000</td>\n",
       "      <td>66.000000</td>\n",
       "    </tr>\n",
       "    <tr>\n",
       "      <th>75%</th>\n",
       "      <td>20.500000</td>\n",
       "      <td>81.000000</td>\n",
       "    </tr>\n",
       "    <tr>\n",
       "      <th>max</th>\n",
       "      <td>30.340000</td>\n",
       "      <td>100.000000</td>\n",
       "    </tr>\n",
       "  </tbody>\n",
       "</table>\n",
       "</div>"
      ],
      "text/plain": [
       "              temp     humidity\n",
       "count  2734.000000  2734.000000\n",
       "mean     16.649239    66.173738\n",
       "std       4.742176    17.813446\n",
       "min       5.740000    16.000000\n",
       "25%      13.120000    52.000000\n",
       "50%      16.400000    66.000000\n",
       "75%      20.500000    81.000000\n",
       "max      30.340000   100.000000"
      ]
     },
     "execution_count": 23,
     "metadata": {},
     "output_type": "execute_result"
    }
   ],
   "source": [
    "#winter temperature/humidity statistics:\n",
    "data[data[\"season\"]==\"winter\"][[\"temp\", \"humidity\"]].describe()"
   ]
  },
  {
   "cell_type": "markdown",
   "metadata": {},
   "source": [
    "- In our data, winter is more humid but spring seems to be colder than winter! For exemple, the median temperature in sping is 12C and 16.4 in winter! This “cold spring” may explain the user behavior shown before.   "
   ]
  },
  {
   "cell_type": "code",
   "execution_count": 24,
   "metadata": {},
   "outputs": [
    {
     "data": {
      "image/png": "[encoded data removed]",
      "text/plain": [
       "<Figure size 1152x360 with 2 Axes>"
      ]
     },
     "metadata": {
      "needs_background": "light"
     },
     "output_type": "display_data"
    }
   ],
   "source": [
    "fig, axis = plt.subplots(1, 2, figsize=(16,5))\n",
    "\n",
    "data[data[\"season\"]==\"spring\"].temp.hist(bins=30,  ax=axis[0])\n",
    "axis[0].set(xlabel=\"Temperature (Celsius)\", ylabel=\"value counts \", title=\"spring\")\n",
    "\n",
    "data[data[\"season\"]==\"winter\"].temp.hist(bins=20, ax=axis[1])\n",
    "axis[1].set(xlabel=\"Temperature (Celsius)\", ylabel=\"value counts \", title=\"winter\")\n",
    "\n",
    "plt.show()"
   ]
  },
  {
   "cell_type": "markdown",
   "metadata": {},
   "source": [
    "## What kind of features could be engineered / created ? "
   ]
  },
  {
   "cell_type": "markdown",
   "metadata": {},
   "source": [
    "Date/Time features : \n",
    "- Our supervised learning problem is to predict the number of rented bikes for given hour. So, the first important feature we need to create is the integer \"hour\". \n",
    "- The number of rented bikes is probably connected to the day of the week : the user behaviors could vary between the workweek and  the weekend. We can first create the variable \"weekday\", and then, if our analysis suggests it, we can add/replace it by a binary variable \"is_workweek\". \n",
    "- Finally, for this specific problem the information about the year/month seems to be more relevant than the information about the day/week number(our data only contains information on the first 19 days of each month). So,  we need to create the variable \"month\". But, as we will see we need to day information for the validation scheme  \n",
    "\n",
    "The \"hour\", \"day\", \"weekday\", \"month\" and \"year features can be extracted from the time-stamp information for each observation. The feature \"is_weekend\" if needed can easily create from \"weekday\". "
   ]
  },
  {
   "cell_type": "code",
   "execution_count": 25,
   "metadata": {},
   "outputs": [],
   "source": [
    "data[\"hour\"] = data.index.hour \n",
    "data[\"dayofweek\"] = data.index.day_name() \n",
    "data[\"month\"] = data.index.month_name()\n",
    "\n",
    "data[\"day\"] = data.index.day \n",
    "data[\"year\"] = data.index.year "
   ]
  },
  {
   "cell_type": "code",
   "execution_count": 26,
   "metadata": {},
   "outputs": [
    {
     "data": {
      "text/html": [
       "<div>\n",
       "<style scoped>\n",
       "    .dataframe tbody tr th:only-of-type {\n",
       "        vertical-align: middle;\n",
       "    }\n",
       "\n",
       "    .dataframe tbody tr th {\n",
       "        vertical-align: top;\n",
       "    }\n",
       "\n",
       "    .dataframe thead th {\n",
       "        text-align: right;\n",
       "    }\n",
       "</style>\n",
       "<table border=\"1\" class=\"dataframe\">\n",
       "  <thead>\n",
       "    <tr style=\"text-align: right;\">\n",
       "      <th></th>\n",
       "      <th>season</th>\n",
       "      <th>holiday</th>\n",
       "      <th>workingday</th>\n",
       "      <th>weather</th>\n",
       "      <th>temp</th>\n",
       "      <th>atemp</th>\n",
       "      <th>humidity</th>\n",
       "      <th>windspeed</th>\n",
       "      <th>casual</th>\n",
       "      <th>registered</th>\n",
       "      <th>count</th>\n",
       "      <th>hour</th>\n",
       "      <th>dayofweek</th>\n",
       "      <th>month</th>\n",
       "      <th>day</th>\n",
       "      <th>year</th>\n",
       "    </tr>\n",
       "    <tr>\n",
       "      <th>datetime</th>\n",
       "      <th></th>\n",
       "      <th></th>\n",
       "      <th></th>\n",
       "      <th></th>\n",
       "      <th></th>\n",
       "      <th></th>\n",
       "      <th></th>\n",
       "      <th></th>\n",
       "      <th></th>\n",
       "      <th></th>\n",
       "      <th></th>\n",
       "      <th></th>\n",
       "      <th></th>\n",
       "      <th></th>\n",
       "      <th></th>\n",
       "      <th></th>\n",
       "    </tr>\n",
       "  </thead>\n",
       "  <tbody>\n",
       "    <tr>\n",
       "      <th>2011-01-01 00:00:00</th>\n",
       "      <td>spring</td>\n",
       "      <td>0</td>\n",
       "      <td>0</td>\n",
       "      <td>Clear or Few clouds</td>\n",
       "      <td>9.84</td>\n",
       "      <td>14.395</td>\n",
       "      <td>81</td>\n",
       "      <td>0.0</td>\n",
       "      <td>3</td>\n",
       "      <td>13</td>\n",
       "      <td>16</td>\n",
       "      <td>0</td>\n",
       "      <td>Saturday</td>\n",
       "      <td>January</td>\n",
       "      <td>1</td>\n",
       "      <td>2011</td>\n",
       "    </tr>\n",
       "    <tr>\n",
       "      <th>2011-01-01 01:00:00</th>\n",
       "      <td>spring</td>\n",
       "      <td>0</td>\n",
       "      <td>0</td>\n",
       "      <td>Clear or Few clouds</td>\n",
       "      <td>9.02</td>\n",
       "      <td>13.635</td>\n",
       "      <td>80</td>\n",
       "      <td>0.0</td>\n",
       "      <td>8</td>\n",
       "      <td>32</td>\n",
       "      <td>40</td>\n",
       "      <td>1</td>\n",
       "      <td>Saturday</td>\n",
       "      <td>January</td>\n",
       "      <td>1</td>\n",
       "      <td>2011</td>\n",
       "    </tr>\n",
       "    <tr>\n",
       "      <th>2011-01-01 02:00:00</th>\n",
       "      <td>spring</td>\n",
       "      <td>0</td>\n",
       "      <td>0</td>\n",
       "      <td>Clear or Few clouds</td>\n",
       "      <td>9.02</td>\n",
       "      <td>13.635</td>\n",
       "      <td>80</td>\n",
       "      <td>0.0</td>\n",
       "      <td>5</td>\n",
       "      <td>27</td>\n",
       "      <td>32</td>\n",
       "      <td>2</td>\n",
       "      <td>Saturday</td>\n",
       "      <td>January</td>\n",
       "      <td>1</td>\n",
       "      <td>2011</td>\n",
       "    </tr>\n",
       "    <tr>\n",
       "      <th>2011-01-01 03:00:00</th>\n",
       "      <td>spring</td>\n",
       "      <td>0</td>\n",
       "      <td>0</td>\n",
       "      <td>Clear or Few clouds</td>\n",
       "      <td>9.84</td>\n",
       "      <td>14.395</td>\n",
       "      <td>75</td>\n",
       "      <td>0.0</td>\n",
       "      <td>3</td>\n",
       "      <td>10</td>\n",
       "      <td>13</td>\n",
       "      <td>3</td>\n",
       "      <td>Saturday</td>\n",
       "      <td>January</td>\n",
       "      <td>1</td>\n",
       "      <td>2011</td>\n",
       "    </tr>\n",
       "    <tr>\n",
       "      <th>2011-01-01 04:00:00</th>\n",
       "      <td>spring</td>\n",
       "      <td>0</td>\n",
       "      <td>0</td>\n",
       "      <td>Clear or Few clouds</td>\n",
       "      <td>9.84</td>\n",
       "      <td>14.395</td>\n",
       "      <td>75</td>\n",
       "      <td>0.0</td>\n",
       "      <td>0</td>\n",
       "      <td>1</td>\n",
       "      <td>1</td>\n",
       "      <td>4</td>\n",
       "      <td>Saturday</td>\n",
       "      <td>January</td>\n",
       "      <td>1</td>\n",
       "      <td>2011</td>\n",
       "    </tr>\n",
       "  </tbody>\n",
       "</table>\n",
       "</div>"
      ],
      "text/plain": [
       "                     season  holiday  workingday              weather  temp  \\\n",
       "datetime                                                                      \n",
       "2011-01-01 00:00:00  spring        0           0  Clear or Few clouds  9.84   \n",
       "2011-01-01 01:00:00  spring        0           0  Clear or Few clouds  9.02   \n",
       "2011-01-01 02:00:00  spring        0           0  Clear or Few clouds  9.02   \n",
       "2011-01-01 03:00:00  spring        0           0  Clear or Few clouds  9.84   \n",
       "2011-01-01 04:00:00  spring        0           0  Clear or Few clouds  9.84   \n",
       "\n",
       "                      atemp  humidity  windspeed  casual  registered  count  \\\n",
       "datetime                                                                      \n",
       "2011-01-01 00:00:00  14.395        81        0.0       3          13     16   \n",
       "2011-01-01 01:00:00  13.635        80        0.0       8          32     40   \n",
       "2011-01-01 02:00:00  13.635        80        0.0       5          27     32   \n",
       "2011-01-01 03:00:00  14.395        75        0.0       3          10     13   \n",
       "2011-01-01 04:00:00  14.395        75        0.0       0           1      1   \n",
       "\n",
       "                     hour dayofweek    month  day  year  \n",
       "datetime                                                 \n",
       "2011-01-01 00:00:00     0  Saturday  January    1  2011  \n",
       "2011-01-01 01:00:00     1  Saturday  January    1  2011  \n",
       "2011-01-01 02:00:00     2  Saturday  January    1  2011  \n",
       "2011-01-01 03:00:00     3  Saturday  January    1  2011  \n",
       "2011-01-01 04:00:00     4  Saturday  January    1  2011  "
      ]
     },
     "execution_count": 26,
     "metadata": {},
     "output_type": "execute_result"
    }
   ],
   "source": [
    "data.head()"
   ]
  },
  {
   "cell_type": "code",
   "execution_count": 27,
   "metadata": {},
   "outputs": [
    {
     "data": {
      "image/png": "[encoded data removed]",
      "text/plain": [
       "<Figure size 1440x360 with 3 Axes>"
      ]
     },
     "metadata": {
      "needs_background": "light"
     },
     "output_type": "display_data"
    }
   ],
   "source": [
    "count_by_month = data.groupby(\"month\")[\"count\"].mean().rename(\"count\").reset_index()\n",
    "count_by_hour = data.groupby([\"hour\", \"dayofweek\", \"year\"])[\"count\"].mean().rename(\"count\").reset_index()\n",
    "count_by_day = data.groupby([\"day\", \"month\", \"year\"])[\"count\"].mean().rename(\"count\").reset_index()\n",
    "\n",
    "fig, axis = plt.subplots(1, 3, figsize=(20,5))\n",
    "\n",
    "list_months = [\"January\",\"February\",\"March\",\"April\",\"May\",\"June\",\"July\",\"August\",\"September\",\"October\",\"November\",\"December\"]\n",
    "sns.pointplot(x= \"month\", y='count', data= count_by_month, order=list_months, ax=axis[0])\n",
    "axis[0].set(xlabel=\"Month\", ylabel=\"The average number of rented bikes\")\n",
    "axis[0].tick_params(axis='x',labelrotation=60)\n",
    "\n",
    "sns.pointplot(x= \"hour\", y='count', hue = \"year\", data= count_by_hour, ax=axis[1])\n",
    "axis[1].set(xlabel=\"Hour\", ylabel=\"The average number of rented bikes\")\n",
    "\n",
    "sns.pointplot(x= \"hour\", y='count', hue =\"dayofweek\" , data= count_by_hour, ax=axis[2])\n",
    "axis[2].set(xlabel=\"Hour\", ylabel=\"The average number of rented bikes\")\n",
    "\n",
    "plt.show()"
   ]
  },
  {
   "cell_type": "markdown",
   "metadata": {},
   "source": [
    "- The user behavior is completely modified on the weekend.\n",
    "- 3h-4h : count ~ 0\n",
    "- count(evening rush hour) > count(morning rush hour)\n",
    "- Ther are more users in 2012\n",
    "- hight count perdiod : may-october "
   ]
  },
  {
   "cell_type": "code",
   "execution_count": 28,
   "metadata": {},
   "outputs": [],
   "source": [
    "# Add \"is_workweek\"\n",
    "data[\"is_workweek\"] = data[\"dayofweek\"].map(lambda x: 1 if x not in [\"Saturday\", \"Sunday\"] else 0)"
   ]
  },
  {
   "cell_type": "markdown",
   "metadata": {},
   "source": [
    "If there missing values season, temp, windspeed"
   ]
  },
  {
   "cell_type": "markdown",
   "metadata": {},
   "source": [
    "# Part II - Machine Learning"
   ]
  },
  {
   "cell_type": "markdown",
   "metadata": {},
   "source": [
    "## Which metrics seems fit the best for the task of predicting the target ? "
   ]
  },
  {
   "cell_type": "markdown",
   "metadata": {},
   "source": [
    "We need to evaluate how well our model can predict the number of rented bikes for given hour (witch is a continuous value). So, we can simply use root mean squared  error (RMSE) which is useful for understanding.\n",
    "\n",
    "$$RMSE  = \\sqrt{\\frac{1}{n}\\sum_{i=1}^{n}(y_i - \\hat{y}_i)^2}$$\n",
    "\n",
    "$y_i$ and $\\hat{y}_i$ are, respectively the predicted and and theactual values. $n$ is the number of instances. \n",
    "\n",
    "For this particular case, I think if our model underestimate the number of rented bikes/hour, it'll be problematic : this might affect the quality of the bike rental service. To do this, we can modify the RMSE by taking the log of the predictions and actual values. In fact, the log transfomration will penalizes the underestimation. This metric in known as the  root mean squared logarithmic error (RMSLE). \n",
    "\n",
    "$$RMSLE = \\sqrt{\\frac{1}{n}\\sum_{i=1}^{n}(\\log(y_i+1) - \\log(\\hat{y}_i+1))^2}$$\n",
    "\n",
    "\n",
    "On can note that RMSLE is less sensitive to outliers than RMSE.   \n",
    "\n",
    "\n"
   ]
  },
  {
   "cell_type": "markdown",
   "metadata": {},
   "source": [
    "## Validation scheme"
   ]
  },
  {
   "cell_type": "markdown",
   "metadata": {},
   "source": [
    "For each month we have only the first 19 days. Since we have sequential data, for each month we will train our models on $N_{\\rm d}$ successive days $1,2, …, N_{\\rm d}$ and then predict the “future” (days $N_{\\rm d} +1, …, 19$. More precisely:  \n",
    "- We are going to split the data in 5 successive folds k=0,1,2,3,4:\n",
    "    - k = 0, is used only for training \n",
    "    - k = 1, 2, 3 for validation\n",
    "    - k = 4 is the test set. \n",
    "- step-1: we train the model on fold k=0—> predict (the future) on for k= 1 \n",
    "- step-2: we train the model on fold k=0, 1—> predict (the future) on for k= 2 \n",
    "- step-3: we train the model on fold k=0,1,2—> predict (the future) on for k= 3 \n",
    "\n",
    "The validation fold k=1, 2, 3 will to tweak the hyperparameters . After that, we use the best model to get prediction on the test set k=4 and estimate the generalization error.   \n"
   ]
  },
  {
   "cell_type": "markdown",
   "metadata": {},
   "source": [
    "### Prepare the data for ML algorithms"
   ]
  },
  {
   "cell_type": "code",
   "execution_count": 29,
   "metadata": {},
   "outputs": [],
   "source": [
    "# Some transformations (not really necessary!!) \n",
    "data[\"hour\"] = data[\"hour\"].map(lambda x: str(x)+\"h\")\n",
    "data[\"holiday\"] = data[\"holiday\"].map({1:\"holy=1\", 0: \"holy=0\"})\n",
    "data[\"is_workweek\"] = data[\"is_workweek\"].map({1:\"wd=1\", 0: \"wd=0\"})"
   ]
  },
  {
   "cell_type": "code",
   "execution_count": 30,
   "metadata": {},
   "outputs": [],
   "source": [
    "# get_fold\n",
    "def get_fold(day):\n",
    "    if day <=4 : return 0\n",
    "    if day <=8 : return 1\n",
    "    if day <=12 :return 2\n",
    "    if day <=16 :return 3\n",
    "    if day <=19 :return 4"
   ]
  },
  {
   "cell_type": "code",
   "execution_count": 31,
   "metadata": {},
   "outputs": [
    {
     "data": {
      "text/html": [
       "<div>\n",
       "<style scoped>\n",
       "    .dataframe tbody tr th:only-of-type {\n",
       "        vertical-align: middle;\n",
       "    }\n",
       "\n",
       "    .dataframe tbody tr th {\n",
       "        vertical-align: top;\n",
       "    }\n",
       "\n",
       "    .dataframe thead th {\n",
       "        text-align: right;\n",
       "    }\n",
       "</style>\n",
       "<table border=\"1\" class=\"dataframe\">\n",
       "  <thead>\n",
       "    <tr style=\"text-align: right;\">\n",
       "      <th></th>\n",
       "      <th>year</th>\n",
       "      <th>month</th>\n",
       "      <th>dayofweek</th>\n",
       "      <th>hour</th>\n",
       "      <th>holiday</th>\n",
       "      <th>is_workweek</th>\n",
       "      <th>season</th>\n",
       "      <th>weather</th>\n",
       "      <th>temp</th>\n",
       "      <th>humidity</th>\n",
       "      <th>windspeed</th>\n",
       "      <th>count</th>\n",
       "      <th>kfold</th>\n",
       "    </tr>\n",
       "  </thead>\n",
       "  <tbody>\n",
       "    <tr>\n",
       "      <th>0</th>\n",
       "      <td>2011</td>\n",
       "      <td>January</td>\n",
       "      <td>Saturday</td>\n",
       "      <td>0h</td>\n",
       "      <td>holy=0</td>\n",
       "      <td>wd=0</td>\n",
       "      <td>spring</td>\n",
       "      <td>Clear or Few clouds</td>\n",
       "      <td>9.84</td>\n",
       "      <td>81</td>\n",
       "      <td>0.0</td>\n",
       "      <td>16</td>\n",
       "      <td>0</td>\n",
       "    </tr>\n",
       "    <tr>\n",
       "      <th>1</th>\n",
       "      <td>2011</td>\n",
       "      <td>January</td>\n",
       "      <td>Saturday</td>\n",
       "      <td>1h</td>\n",
       "      <td>holy=0</td>\n",
       "      <td>wd=0</td>\n",
       "      <td>spring</td>\n",
       "      <td>Clear or Few clouds</td>\n",
       "      <td>9.02</td>\n",
       "      <td>80</td>\n",
       "      <td>0.0</td>\n",
       "      <td>40</td>\n",
       "      <td>0</td>\n",
       "    </tr>\n",
       "    <tr>\n",
       "      <th>2</th>\n",
       "      <td>2011</td>\n",
       "      <td>January</td>\n",
       "      <td>Saturday</td>\n",
       "      <td>2h</td>\n",
       "      <td>holy=0</td>\n",
       "      <td>wd=0</td>\n",
       "      <td>spring</td>\n",
       "      <td>Clear or Few clouds</td>\n",
       "      <td>9.02</td>\n",
       "      <td>80</td>\n",
       "      <td>0.0</td>\n",
       "      <td>32</td>\n",
       "      <td>0</td>\n",
       "    </tr>\n",
       "    <tr>\n",
       "      <th>3</th>\n",
       "      <td>2011</td>\n",
       "      <td>January</td>\n",
       "      <td>Saturday</td>\n",
       "      <td>3h</td>\n",
       "      <td>holy=0</td>\n",
       "      <td>wd=0</td>\n",
       "      <td>spring</td>\n",
       "      <td>Clear or Few clouds</td>\n",
       "      <td>9.84</td>\n",
       "      <td>75</td>\n",
       "      <td>0.0</td>\n",
       "      <td>13</td>\n",
       "      <td>0</td>\n",
       "    </tr>\n",
       "    <tr>\n",
       "      <th>4</th>\n",
       "      <td>2011</td>\n",
       "      <td>January</td>\n",
       "      <td>Saturday</td>\n",
       "      <td>4h</td>\n",
       "      <td>holy=0</td>\n",
       "      <td>wd=0</td>\n",
       "      <td>spring</td>\n",
       "      <td>Clear or Few clouds</td>\n",
       "      <td>9.84</td>\n",
       "      <td>75</td>\n",
       "      <td>0.0</td>\n",
       "      <td>1</td>\n",
       "      <td>0</td>\n",
       "    </tr>\n",
       "  </tbody>\n",
       "</table>\n",
       "</div>"
      ],
      "text/plain": [
       "   year    month dayofweek hour holiday is_workweek  season  \\\n",
       "0  2011  January  Saturday   0h  holy=0        wd=0  spring   \n",
       "1  2011  January  Saturday   1h  holy=0        wd=0  spring   \n",
       "2  2011  January  Saturday   2h  holy=0        wd=0  spring   \n",
       "3  2011  January  Saturday   3h  holy=0        wd=0  spring   \n",
       "4  2011  January  Saturday   4h  holy=0        wd=0  spring   \n",
       "\n",
       "               weather  temp  humidity  windspeed  count  kfold  \n",
       "0  Clear or Few clouds  9.84        81        0.0     16      0  \n",
       "1  Clear or Few clouds  9.02        80        0.0     40      0  \n",
       "2  Clear or Few clouds  9.02        80        0.0     32      0  \n",
       "3  Clear or Few clouds  9.84        75        0.0     13      0  \n",
       "4  Clear or Few clouds  9.84        75        0.0      1      0  "
      ]
     },
     "execution_count": 31,
     "metadata": {},
     "output_type": "execute_result"
    }
   ],
   "source": [
    "selected_attributes = [\"year\", \"month\", \"day\", \"dayofweek\", \"hour\", \"holiday\", \"is_workweek\",\n",
    "                       \"season\", \"weather\", \"temp\", \"humidity\",\"windspeed\", \n",
    "                       \"count\"]\n",
    "data_folds = data[selected_attributes].reset_index(drop=True)\n",
    "data_folds[\"kfold\"] = data_folds[\"day\"].map(lambda x:get_fold(x))\n",
    "data_folds = data_folds.drop(\"day\", axis=1)\n",
    "data_folds.head()"
   ]
  },
  {
   "cell_type": "code",
   "execution_count": 32,
   "metadata": {},
   "outputs": [],
   "source": [
    "num_features = [\"temp\", \"humidity\",\"windspeed\"]\n",
    "cat_features = [\"year\", \"month\", \"dayofweek\", \"hour\", \"holiday\", \"is_workweek\", \"season\", \"weather\"]\n",
    "all_features = [\"temp\", \"humidity\",\"windspeed\",\n",
    "                \"year\", \"month\", \"dayofweek\", \"hour\", \"holiday\", \"is_workweek\", \"season\", \"weather\"]"
   ]
  },
  {
   "cell_type": "code",
   "execution_count": 33,
   "metadata": {},
   "outputs": [],
   "source": [
    "# Pipeline\n",
    "num_pipeline = Pipeline([('scaler', StandardScaler())])\n",
    "\n",
    "cat_pipeline = Pipeline([\n",
    "    ('Encoder', OneHotEncoder())])\n",
    "\n",
    "full_pipeline = ColumnTransformer([\n",
    "    ('num', num_pipeline, num_features),\n",
    "    ('cat', cat_pipeline, cat_features)])"
   ]
  },
  {
   "cell_type": "code",
   "execution_count": 34,
   "metadata": {},
   "outputs": [],
   "source": [
    "X_train = data_folds[all_features][data_folds.kfold<4]\n",
    "y_train = data_folds[\"count\"][data_folds.kfold<4]\n",
    "\n",
    "X_test = data_folds[all_features][data_folds.kfold==4]\n",
    "y_test = data_folds[\"count\"][data_folds.kfold==4]\n",
    "\n",
    "\n",
    "X_train_tr = full_pipeline.fit_transform(X_train)\n",
    "X_test_tr = full_pipeline.transform(X_test)"
   ]
  },
  {
   "cell_type": "markdown",
   "metadata": {},
   "source": [
    "## Modeling  ..."
   ]
  },
  {
   "cell_type": "markdown",
   "metadata": {},
   "source": [
    "We will start by looking to the linear regression model. This simple model asume linear relation between the features and the target. Next, we will try to improve the prediction performance by training other models:  \n",
    " - Ridge Regression: wicth is a regularized version of the linear regression model. The regularisation term added to the cost function tend to keep the model wight as small as possible when fiting the training data.\n",
    " - Decision Trees  : we chose this model, because unlike linear regression, Decision Trees model make very few assumptions about the training data. The counterpart of this is that Decision Trees has many degrees of freedom which allows it to fit too much to the data (overfitting)! So, we need to restrict Decision Trees freedom during training by hyperparameters regularization.        \n",
    " - Random Forest : for this model, predictions are based on an aggregation of predictions obtained from a diverse group (ensemble) of decision trees. Random Forest introduce randomness which can result in low variance (but a higher bias !). This might improve the Decision Trees performance witch is more sensitive to small variation. \n",
    " - Garient Boosting : for this ensemble model, each predictors (trees) try to correct its predecessor by fitting the residual errors. As we will see, this model will impprove the prediction performance.    \n",
    "  "
   ]
  },
  {
   "cell_type": "markdown",
   "metadata": {},
   "source": [
    "### Some useful functions"
   ]
  },
  {
   "cell_type": "code",
   "execution_count": 35,
   "metadata": {},
   "outputs": [],
   "source": [
    "def rmsle(y_true, y_pred):\n",
    "    \"\"\"\n",
    "    This function calculates  the root mean squared logarithmic error.\n",
    "    \"\"\"\n",
    "    return  np.sqrt(metrics.mean_squared_log_error(y_true, y_pred))"
   ]
  },
  {
   "cell_type": "code",
   "execution_count": 36,
   "metadata": {},
   "outputs": [],
   "source": [
    "def runCV(fold, model):\n",
    "    \"\"\"\n",
    "    This function is used to perform Cross-validation.\n",
    "    \"\"\"\n",
    "    X_train = data_folds[data_folds.kfold<fold].drop([\"kfold\", \"count\"], axis=1)\n",
    "    y_train = data_folds[data_folds.kfold<fold][\"count\"]\n",
    "    y_train = np.log(y_train + 1)\n",
    "    \n",
    "    X_valid = data_folds[data_folds.kfold==fold].drop([\"kfold\", \"count\"], axis=1)\n",
    "    y_valid = data_folds[data_folds.kfold==fold][\"count\"]\n",
    "    y_valid = np.log(y_valid + 1)\n",
    "    \n",
    "    X_train = full_pipeline.fit_transform(X_train)\n",
    "    X_valid = full_pipeline.transform(X_valid)\n",
    "    \n",
    "    model.fit(X_train, y_train)\n",
    "    \n",
    "    y_train_pred = np.exp(model.predict(X_train))\n",
    "    y_valid_pred = np.exp(model.predict(X_valid)) \n",
    "    \n",
    "    y_train = np.exp(y_train)\n",
    "    y_valid = np.exp(y_valid)\n",
    "    \n",
    "    \n",
    "    print(f\"Fold={fold} (train): \",\n",
    "          f\"rmsle_score = {rmsle(y_train, y_train_pred).round(2)}\")\n",
    "    print(f\"Fold={fold} (valid): \",\n",
    "          f\"rmsle_score = {rmsle(y_valid, y_valid_pred).round(2)}\")\n",
    "    print(\"-\"*35)"
   ]
  },
  {
   "cell_type": "code",
   "execution_count": 37,
   "metadata": {},
   "outputs": [],
   "source": [
    "# get train & valid indices\n",
    "train_valid_indices = []\n",
    "for fold in [1,2,3]:\n",
    "    train_valid_indices.append((data_folds[data_folds.kfold<fold].index.values, \n",
    "     data_folds[data_folds.kfold==fold].index.values))"
   ]
  },
  {
   "cell_type": "code",
   "execution_count": 38,
   "metadata": {},
   "outputs": [],
   "source": [
    "def rmsle_for_scorer(y_true, y_pred):\n",
    "    \"\"\"\n",
    "    This function calculates  the root mean squared logarithmic error.\n",
    "    \"\"\"\n",
    "    y_true = np.exp(y_true)\n",
    "    y_pred = np.exp(y_pred)\n",
    "    return  np.sqrt(metrics.mean_squared_log_error(y_true, y_pred))\n",
    "\n",
    "rmsle_scorer = make_scorer(rmsle_for_scorer, greater_is_better=False)"
   ]
  },
  {
   "cell_type": "code",
   "execution_count": 39,
   "metadata": {},
   "outputs": [],
   "source": [
    "def runGS(model, param_grid, randomized = False):\n",
    "    \"\"\"\n",
    "    This function is used to perform Grid Search.\n",
    "    \"\"\"\n",
    "    \n",
    "    if(randomized):\n",
    "        grid_search = RandomizedSearchCV(model, param_grid, scoring = rmsle_scorer, \n",
    "                               return_train_score=True,cv=train_valid_indices)\n",
    "    else:\n",
    "        grid_search = GridSearchCV(model, param_grid, scoring = rmsle_scorer, \n",
    "                               return_train_score=True,cv=train_valid_indices)\n",
    "        \n",
    "    X_train = data_folds[all_features]\n",
    "    y_train = data_folds[\"count\"]\n",
    "    \n",
    "    X_train = full_pipeline.fit_transform(X_train)\n",
    "    y_train = np.log(y_train+1)\n",
    "    \n",
    "    grid_search.fit(X_train, y_train)\n",
    "    print(\"best_params:\", grid_search.best_params_)\n",
    "    \n",
    "    best_score_idx = np.argwhere(grid_search.cv_results_[\"mean_test_score\"]==grid_search.best_score_)\n",
    "    best_score_idx = best_score_idx.flatten()[0]\n",
    "    \n",
    "    print(\"rmsle_best_score (train):\", np.round(-grid_search.cv_results_[\"mean_train_score\"][best_score_idx],2))\n",
    "    print(\"rmsle_best_score (valid):\", np.round(-grid_search.cv_results_[\"mean_test_score\"][best_score_idx],2))\n",
    "    \n",
    "    return grid_search.best_estimator_"
   ]
  },
  {
   "cell_type": "markdown",
   "metadata": {},
   "source": [
    "### Linear Regression"
   ]
  },
  {
   "cell_type": "code",
   "execution_count": 40,
   "metadata": {},
   "outputs": [
    {
     "name": "stdout",
     "output_type": "stream",
     "text": [
      "Fold=1 (train):  rmsle_score = 0.56\n",
      "Fold=1 (valid):  rmsle_score = 0.59\n",
      "-----------------------------------\n",
      "Fold=2 (train):  rmsle_score = 0.57\n",
      "Fold=2 (valid):  rmsle_score = 0.55\n",
      "-----------------------------------\n",
      "Fold=3 (train):  rmsle_score = 0.56\n",
      "Fold=3 (valid):  rmsle_score = 0.55\n",
      "-----------------------------------\n",
      "Fold=4 (train):  rmsle_score = 0.56\n",
      "Fold=4 (valid):  rmsle_score = 0.55\n",
      "-----------------------------------\n"
     ]
    }
   ],
   "source": [
    "for fold in [1, 2, 3, 4]:\n",
    "    runCV(fold, linear_model.LinearRegression())"
   ]
  },
  {
   "cell_type": "markdown",
   "metadata": {},
   "source": [
    "### Ridge Regression"
   ]
  },
  {
   "cell_type": "markdown",
   "metadata": {},
   "source": [
    "- alpha : tend to keep the model wight as small as possible\n",
    "- alpha = 0 : Ridge Regression = Linear Regression "
   ]
  },
  {
   "cell_type": "code",
   "execution_count": 41,
   "metadata": {},
   "outputs": [
    {
     "name": "stdout",
     "output_type": "stream",
     "text": [
      "best_params: {'alpha': 2, 'max_iter': 100}\n",
      "rmsle_best_score (train): 0.56\n",
      "rmsle_best_score (valid): 0.56\n"
     ]
    }
   ],
   "source": [
    "model = linear_model.Ridge()\n",
    "param_grid = {'alpha':[3, 2, 1, 0.5, 0.1, 0.], 'max_iter': [100, 500, 1000, 2000, 3000]}\n",
    "ridge_reg = runGS(model, param_grid )"
   ]
  },
  {
   "cell_type": "code",
   "execution_count": 42,
   "metadata": {},
   "outputs": [
    {
     "name": "stdout",
     "output_type": "stream",
     "text": [
      "Fold=4 : rmsle_score (test): 0.56\n"
     ]
    }
   ],
   "source": [
    "# Test set -- Fold=4:\n",
    "y_test_pred = np.exp(ridge_reg.predict(X_test_tr))\n",
    "print(\"Fold=4 : rmsle_score (test):\",rmsle(y_test_pred, y_test).round(2))"
   ]
  },
  {
   "cell_type": "markdown",
   "metadata": {},
   "source": [
    "- Ridge doesn’t really improve linear regression performance intended above . "
   ]
  },
  {
   "cell_type": "markdown",
   "metadata": {},
   "source": [
    "### Decision Trees "
   ]
  },
  {
   "cell_type": "code",
   "execution_count": 43,
   "metadata": {},
   "outputs": [
    {
     "name": "stdout",
     "output_type": "stream",
     "text": [
      "Fold=1 (train):  rmsle_score = 0.0\n",
      "Fold=1 (valid):  rmsle_score = 0.62\n",
      "-----------------------------------\n",
      "Fold=2 (train):  rmsle_score = 0.0\n",
      "Fold=2 (valid):  rmsle_score = 0.49\n",
      "-----------------------------------\n",
      "Fold=3 (train):  rmsle_score = 0.01\n",
      "Fold=3 (valid):  rmsle_score = 0.46\n",
      "-----------------------------------\n"
     ]
    }
   ],
   "source": [
    "#rf reg with default parameters \n",
    "model = tree.DecisionTreeRegressor(random_state=42)\n",
    "for fold in [1,2,3]:\n",
    "    runCV(fold, model)"
   ]
  },
  {
   "cell_type": "markdown",
   "metadata": {},
   "source": [
    "- The Decision Trees model is overfitting the training data.\n",
    "- To avoid overfitting, we can restrict the max_depth parameter. In our case, the order of max_depth is $\\log_2(\\text{len}(data))$ ~ 14 (probably a bit more) \n",
    "- We can also restrict the min_samples_leaf paramete. min_samples_leaf > 1 may have the effect of smoothing the model."
   ]
  },
  {
   "cell_type": "code",
   "execution_count": 45,
   "metadata": {},
   "outputs": [
    {
     "name": "stdout",
     "output_type": "stream",
     "text": [
      "best_params: {'max_depth': 12, 'min_samples_leaf': 8}\n",
      "rmsle_best_score (train): 0.51\n",
      "rmsle_best_score (valid): 0.58\n"
     ]
    }
   ],
   "source": [
    "model = tree.DecisionTreeRegressor(random_state=42)\n",
    "param_grid = {\"min_samples_leaf\":[4, 8, 12, 16],\n",
    "             \"max_depth\":[4,8,12]}\n",
    "dt_reg = runGS(model, param_grid, randomized=False)"
   ]
  },
  {
   "cell_type": "markdown",
   "metadata": {},
   "source": [
    "-  The model doesn't fit too much the training data : overfitting avoided !, but the performance still not good."
   ]
  },
  {
   "cell_type": "code",
   "execution_count": 46,
   "metadata": {},
   "outputs": [
    {
     "name": "stdout",
     "output_type": "stream",
     "text": [
      "Fold=4 : rmsle_score (test): 0.5\n"
     ]
    }
   ],
   "source": [
    "# Test set -- Fold=4:\n",
    "y_test_pred = np.exp(dt_reg.predict(X_test_tr))\n",
    "print(\"Fold=4 : rmsle_score (test):\",rmsle(y_test_pred, y_test).round(2))"
   ]
  },
  {
   "cell_type": "markdown",
   "metadata": {},
   "source": [
    "- We got \"better\" performance compared to linear regression in the test set. "
   ]
  },
  {
   "cell_type": "markdown",
   "metadata": {},
   "source": [
    "### Random forest "
   ]
  },
  {
   "cell_type": "code",
   "execution_count": 47,
   "metadata": {},
   "outputs": [
    {
     "name": "stdout",
     "output_type": "stream",
     "text": [
      "Fold=1 (train):  rmsle_score = 0.15\n",
      "Fold=1 (valid):  rmsle_score = 0.45\n",
      "-----------------------------------\n",
      "Fold=2 (train):  rmsle_score = 0.14\n",
      "Fold=2 (valid):  rmsle_score = 0.36\n",
      "-----------------------------------\n",
      "Fold=3 (train):  rmsle_score = 0.12\n",
      "Fold=3 (valid):  rmsle_score = 0.34\n",
      "-----------------------------------\n"
     ]
    }
   ],
   "source": [
    "#rf reg with default parameters \n",
    "model = ensemble.RandomForestRegressor(random_state=42)\n",
    "for fold in [1,2,3]:\n",
    "    runCV(fold, model)"
   ]
  },
  {
   "cell_type": "markdown",
   "metadata": {},
   "source": [
    "- We restric max_depth to avoid overfitting and min_samples_leaf for smoothing.\n",
    "- n_estimators : number of trees "
   ]
  },
  {
   "cell_type": "code",
   "execution_count": 48,
   "metadata": {},
   "outputs": [
    {
     "name": "stdout",
     "output_type": "stream",
     "text": [
      "best_params: {'max_depth': 12, 'min_samples_leaf': 2, 'n_estimators': 100}\n",
      "rmsle_best_score (train): 0.44\n",
      "rmsle_best_score (valid): 0.51\n"
     ]
    }
   ],
   "source": [
    "model = ensemble.RandomForestRegressor(random_state=42)\n",
    "param_grid = { \"n_estimators\":[100, 200, 300], \"min_samples_leaf\":[2, 4, 6], \"max_depth\":[4, 8, 12]}\n",
    "rf_reg = runGS(model, param_grid, randomized=False)"
   ]
  },
  {
   "cell_type": "code",
   "execution_count": 49,
   "metadata": {},
   "outputs": [
    {
     "name": "stdout",
     "output_type": "stream",
     "text": [
      "Fold=4 : rmsle_score (test): 0.45\n"
     ]
    }
   ],
   "source": [
    "# Test set -- Fold=4:\n",
    "y_test_pred = np.exp(rf_reg.predict(X_test_tr))\n",
    "print(\"Fold=4 : rmsle_score (test):\",rmsle(y_test_pred, y_test).round(2))"
   ]
  },
  {
   "cell_type": "markdown",
   "metadata": {},
   "source": [
    "- We got better performance compared to linear regression and Decision Tree in the test set."
   ]
  },
  {
   "cell_type": "markdown",
   "metadata": {},
   "source": [
    "### Gradient Bossting"
   ]
  },
  {
   "cell_type": "code",
   "execution_count": 50,
   "metadata": {},
   "outputs": [
    {
     "name": "stdout",
     "output_type": "stream",
     "text": [
      "Fold=1 (train):  rmsle_score = 0.09\n",
      "Fold=1 (valid):  rmsle_score = 0.4\n",
      "-----------------------------------\n",
      "Fold=2 (train):  rmsle_score = 0.13\n",
      "Fold=2 (valid):  rmsle_score = 0.33\n",
      "-----------------------------------\n",
      "Fold=3 (train):  rmsle_score = 0.16\n",
      "Fold=3 (valid):  rmsle_score = 0.31\n",
      "-----------------------------------\n"
     ]
    }
   ],
   "source": [
    "#xgb reg with default parameters \n",
    "model = xgboost.XGBRegressor()\n",
    "for fold in [1,2,3]:\n",
    "    runCV(fold, model)"
   ]
  },
  {
   "cell_type": "markdown",
   "metadata": {},
   "source": [
    "Parameters. \n",
    "- learning_rate : for low value, we need more trees. This may help for better generalization\n",
    "- min_child_weight (almost) similar to min_child_leaf\n",
    "- We use the squared log error cost function during training.  "
   ]
  },
  {
   "cell_type": "code",
   "execution_count": 51,
   "metadata": {},
   "outputs": [
    {
     "name": "stdout",
     "output_type": "stream",
     "text": [
      "best_params: {'learning_rate': 0.1, 'max_depth': 4, 'min_child_weight': 2, 'n_estimators': 800}\n",
      "rmsle_best_score (train): 0.3\n",
      "rmsle_best_score (valid): 0.37\n"
     ]
    }
   ],
   "source": [
    "param_dist = {'objective':'reg:squaredlogerror',\n",
    "              \"random_state\":42}\n",
    "model = xgboost.XGBRegressor(**param_dist)\n",
    "param_grid = [{'n_estimators': [200, 400, 800],\n",
    "               'max_depth': [2, 4, 6],\n",
    "               \"learning_rate\": [0.05,.1, 0.5],\n",
    "               \"min_child_weight\" : [2, 4, 6, 8, 10]}]\n",
    "xgb_reg = runGS(model, param_grid)"
   ]
  },
  {
   "cell_type": "code",
   "execution_count": 52,
   "metadata": {},
   "outputs": [
    {
     "name": "stdout",
     "output_type": "stream",
     "text": [
      "Fold=4 : rmsle_score (test): 0.27\n"
     ]
    }
   ],
   "source": [
    "# Test set -- Fold=4:\n",
    "y_test_pred = np.exp(xgb_reg.predict(X_test_tr))\n",
    "print(\"Fold=4 : rmsle_score (test):\",rmsle(y_test_pred, y_test).round(2))"
   ]
  },
  {
   "cell_type": "markdown",
   "metadata": {},
   "source": [
    "- With this model, we reach our best performance. "
   ]
  },
  {
   "cell_type": "markdown",
   "metadata": {},
   "source": [
    "## Feature importance"
   ]
  },
  {
   "cell_type": "code",
   "execution_count": 53,
   "metadata": {},
   "outputs": [],
   "source": [
    "cat_atribs = full_pipeline.named_transformers_['cat'].named_steps['Encoder'].categories_.copy()\n",
    "cat_atribs = [i for j in cat_atribs for i in j]\n",
    "atribs = num_features + cat_atribs"
   ]
  },
  {
   "cell_type": "markdown",
   "metadata": {},
   "source": [
    "### feature importance : Gradient Bossting model"
   ]
  },
  {
   "cell_type": "code",
   "execution_count": 54,
   "metadata": {},
   "outputs": [
    {
     "data": {
      "text/html": [
       "<div>\n",
       "<style scoped>\n",
       "    .dataframe tbody tr th:only-of-type {\n",
       "        vertical-align: middle;\n",
       "    }\n",
       "\n",
       "    .dataframe tbody tr th {\n",
       "        vertical-align: top;\n",
       "    }\n",
       "\n",
       "    .dataframe thead th {\n",
       "        text-align: right;\n",
       "    }\n",
       "</style>\n",
       "<table border=\"1\" class=\"dataframe\">\n",
       "  <thead>\n",
       "    <tr style=\"text-align: right;\">\n",
       "      <th></th>\n",
       "      <th>feature</th>\n",
       "      <th>importances</th>\n",
       "    </tr>\n",
       "  </thead>\n",
       "  <tbody>\n",
       "    <tr>\n",
       "      <th>0</th>\n",
       "      <td>3h</td>\n",
       "      <td>0.205018</td>\n",
       "    </tr>\n",
       "    <tr>\n",
       "      <th>1</th>\n",
       "      <td>4h</td>\n",
       "      <td>0.184218</td>\n",
       "    </tr>\n",
       "    <tr>\n",
       "      <th>2</th>\n",
       "      <td>2h</td>\n",
       "      <td>0.120264</td>\n",
       "    </tr>\n",
       "    <tr>\n",
       "      <th>3</th>\n",
       "      <td>5h</td>\n",
       "      <td>0.090507</td>\n",
       "    </tr>\n",
       "    <tr>\n",
       "      <th>4</th>\n",
       "      <td>1h</td>\n",
       "      <td>0.074141</td>\n",
       "    </tr>\n",
       "    <tr>\n",
       "      <th>5</th>\n",
       "      <td>0h</td>\n",
       "      <td>0.031767</td>\n",
       "    </tr>\n",
       "    <tr>\n",
       "      <th>6</th>\n",
       "      <td>17h</td>\n",
       "      <td>0.026908</td>\n",
       "    </tr>\n",
       "    <tr>\n",
       "      <th>7</th>\n",
       "      <td>18h</td>\n",
       "      <td>0.026727</td>\n",
       "    </tr>\n",
       "    <tr>\n",
       "      <th>8</th>\n",
       "      <td>wd=0</td>\n",
       "      <td>0.020805</td>\n",
       "    </tr>\n",
       "    <tr>\n",
       "      <th>9</th>\n",
       "      <td>spring</td>\n",
       "      <td>0.019663</td>\n",
       "    </tr>\n",
       "  </tbody>\n",
       "</table>\n",
       "</div>"
      ],
      "text/plain": [
       "  feature  importances\n",
       "0      3h     0.205018\n",
       "1      4h     0.184218\n",
       "2      2h     0.120264\n",
       "3      5h     0.090507\n",
       "4      1h     0.074141\n",
       "5      0h     0.031767\n",
       "6     17h     0.026908\n",
       "7     18h     0.026727\n",
       "8    wd=0     0.020805\n",
       "9  spring     0.019663"
      ]
     },
     "execution_count": 54,
     "metadata": {},
     "output_type": "execute_result"
    }
   ],
   "source": [
    "feature_importances = pd.DataFrame()\n",
    "feature_importances[\"feature\"] = atribs\n",
    "feature_importances[\"importances\"]=xgb_reg.feature_importances_\n",
    "feature_importances.sort_values(by=\"importances\", ascending=False).reset_index(drop=True).head(10)"
   ]
  },
  {
   "cell_type": "markdown",
   "metadata": {},
   "source": [
    "First 10 important features seems to agree  with some of our analysis: \n",
    "- 0h-5h : Hours when the rental service is little (or not at all) used.\n",
    "- 17h-18 : evening rush hour. As already noticed, the bike service is used more in the evening rush hour than in the morning rush hour. \n",
    "- wd=0 : As already noticed, the user behavior is completed modified on the weekend!\n",
    "- spring : the rental service is less used in the spring season.\n",
    "\n",
    "The learning algorithm seems to give more importance to the features which related to a low use of the bike rental service (The top 5). For example, the \"temp\" does not appear in the top 10 features.   "
   ]
  },
  {
   "cell_type": "code",
   "execution_count": null,
   "metadata": {},
   "outputs": [],
   "source": []
  }
 ],
 "metadata": {
  "kernelspec": {
   "display_name": "Python 3",
   "language": "python",
   "name": "python3"
  },
  "language_info": {
   "codemirror_mode": {
    "name": "ipython",
    "version": 3
   },
   "file_extension": ".py",
   "mimetype": "text/x-python",
   "name": "python",
   "nbconvert_exporter": "python",
   "pygments_lexer": "ipython3",
   "version": "3.7.9"
  }
 },
 "nbformat": 4,
 "nbformat_minor": 4
}
